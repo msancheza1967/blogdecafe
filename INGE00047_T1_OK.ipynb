{
  "cells": [
    {
      "cell_type": "markdown",
      "metadata": {
        "id": "view-in-github",
        "colab_type": "text"
      },
      "source": [
        "<a href=\"https://colab.research.google.com/github/msancheza1967/blogdecafe/blob/main/INGE00047_T1_OK.ipynb\" target=\"_parent\"><img src=\"https://colab.research.google.com/assets/colab-badge.svg\" alt=\"Open In Colab\"/></a>"
      ]
    },
    {
      "cell_type": "markdown",
      "id": "181ce770",
      "metadata": {
        "id": "181ce770"
      },
      "source": [
        "# Repaso de Python\n",
        "\n",
        "## 1.1. El lenguaje de programación Python\n",
        "\n",
        "Python es un lenguaje de programación de alto nivel, interpretado y de propósito general. Diseñado con énfasis en la legibilidad del código, permite a los programadores expresar conceptos en menos líneas de código de lo que sería posible en lenguajes como C++ o Java.\n"
      ]
    },
    {
      "cell_type": "code",
      "execution_count": null,
      "id": "fc8173ab",
      "metadata": {
        "id": "fc8173ab",
        "colab": {
          "base_uri": "https://localhost:8080/"
        },
        "outputId": "2e350d1a-74da-4ab3-d4e6-9216dc709fc0"
      },
      "outputs": [
        {
          "output_type": "stream",
          "name": "stdout",
          "text": [
            "Hola, mundo\n"
          ]
        }
      ],
      "source": [
        "# Ejemplo de código en Python: imprimir \"Hola, mundo\"\n",
        "print(\"Hola, mundo\")\n"
      ]
    },
    {
      "cell_type": "markdown",
      "id": "883df1d0",
      "metadata": {
        "id": "883df1d0"
      },
      "source": [
        "### Explicación del Código\n",
        "\n",
        "El código anterior muestra cómo imprimir una cadena de texto en la salida estándar. Al ejecutar este código, se debe ver en la pantalla la frase \"Hola, mundo\".\n",
        "\n",
        "### Salida esperada:\n",
        "```\n",
        "Hola, mundo\n",
        "```\n"
      ]
    },
    {
      "cell_type": "markdown",
      "id": "d9e9fd86",
      "metadata": {
        "id": "d9e9fd86"
      },
      "source": [
        "## 1.2. ¿Qué es un programa?\n",
        "\n",
        "Un programa es un conjunto de instrucciones que especifica cómo realizar una computación. La computación puede ser algo matemático, como resolver un sistema de ecuaciones o encontrar las raíces de un polinomio, pero también puede referirse a una tarea de computación simbólica, como buscar y reemplazar texto en un documento.\n"
      ]
    },
    {
      "cell_type": "code",
      "execution_count": null,
      "id": "37e6bd3a",
      "metadata": {
        "id": "37e6bd3a"
      },
      "outputs": [],
      "source": [
        "# Ejemplo de código en Python: un simple cálculo\n",
        "resultado = 1 + 1\n",
        "print(\"El resultado de 1 + 1 es:\", resultado)\n"
      ]
    },
    {
      "cell_type": "markdown",
      "id": "81f895e3",
      "metadata": {
        "id": "81f895e3"
      },
      "source": [
        "### Explicación del Código\n",
        "\n",
        "Este ejemplo realiza una operación simple de suma y luego imprime el resultado. Es un ejemplo básico de cómo se puede utilizar Python para realizar cálculos.\n",
        "\n",
        "### Salida esperada:\n",
        "```\n",
        "El resultado de 1 + 1 es: 2\n",
        "```\n"
      ]
    },
    {
      "cell_type": "markdown",
      "id": "f59aebb6",
      "metadata": {
        "id": "f59aebb6"
      },
      "source": [
        "## 1.3. ¿Qué es la depuración (debugging)?\n",
        "\n",
        "La depuración es el proceso de encontrar y corregir errores en un programa. En el contexto de la programación, un 'bug' es un error en el código que causa un comportamiento incorrecto o inesperado del programa.\n"
      ]
    },
    {
      "cell_type": "code",
      "execution_count": null,
      "id": "db2d038c",
      "metadata": {
        "id": "db2d038c"
      },
      "outputs": [],
      "source": [
        "# Ejemplo de código en Python: Debugging simple\n",
        "def suma(a, b):\n",
        "    return a + b  # Correctamente implementada\n",
        "\n",
        "# Llamada incorrecta que necesitamos debuggear\n",
        "resultado = suma(5, '3')  # Error: no se pueden sumar int y str\n",
        "print(resultado)\n"
      ]
    },
    {
      "cell_type": "markdown",
      "id": "fd4c18f6",
      "metadata": {
        "id": "fd4c18f6"
      },
      "source": [
        "### Explicación del Código\n",
        "\n",
        "Este código intenta sumar dos valores, uno de los cuales es una cadena, lo que provocará un TypeError. La depuración de este código involucraría identificar y corregir la discrepancia de tipos.\n",
        "\n",
        "### Salida esperada:\n",
        "```\n",
        "TypeError: unsupported operand type(s) for +: 'int' and 'str'\n",
        "```\n"
      ]
    },
    {
      "cell_type": "markdown",
      "id": "748aa3f9",
      "metadata": {
        "id": "748aa3f9"
      },
      "source": [
        "## 1.4. Lenguajes formales y lenguajes naturales\n",
        "\n",
        "Lenguajes formales son lenguajes diseñados por humanos para aplicaciones específicas como la matemática, la química o la programación. Son más precisos y tienen reglas estrictas de sintaxis y semántica, a diferencia de los lenguajes naturales que son menos rigurosos y más ambiguos.\n"
      ]
    },
    {
      "cell_type": "code",
      "execution_count": null,
      "id": "6506a415",
      "metadata": {
        "id": "6506a415"
      },
      "outputs": [],
      "source": [
        "# Ejemplo de código: Uso de sintaxis en Python\n",
        "# Python utiliza una sintaxis formal que debe ser seguida para que el código se ejecute correctamente.\n",
        "x = 10\n",
        "if x > 5:\n",
        "    print(\"x es mayor que 5\")\n"
      ]
    },
    {
      "cell_type": "markdown",
      "id": "6bacd264",
      "metadata": {
        "id": "6bacd264"
      },
      "source": [
        "### Explicación del Código\n",
        "\n",
        "Este ejemplo muestra una estructura condicional en Python, que es parte de su sintaxis formal. Si la condición (`x > 5`) se cumple, entonces se ejecuta el bloque de código indentado debajo del `if`, mostrando un mensaje.\n",
        "\n",
        "### Salida esperada:\n",
        "```\n",
        "x es mayor que 5\n",
        "```\n"
      ]
    },
    {
      "cell_type": "markdown",
      "id": "b0480ac3",
      "metadata": {
        "id": "b0480ac3"
      },
      "source": [
        "## 1.5. El primer programa\n",
        "\n",
        "Un \"primer programa\" típico en cualquier lenguaje de programación suele ser un simple comando que imprime \"Hola, mundo\" en la pantalla. Esto sirve para introducir la sintaxis básica del lenguaje y para verificar que el entorno de desarrollo está configurado correctamente.\n"
      ]
    },
    {
      "cell_type": "code",
      "execution_count": null,
      "id": "6e637cad",
      "metadata": {
        "id": "6e637cad"
      },
      "outputs": [],
      "source": [
        "# Ejemplo de código: El primer programa en Python\n",
        "print(\"Hola, mundo\")\n"
      ]
    },
    {
      "cell_type": "markdown",
      "id": "a7845cb3",
      "metadata": {
        "id": "a7845cb3"
      },
      "source": [
        "### Explicación del Código\n",
        "\n",
        "El ejemplo de código imprime la cadena 'Hola, mundo' en la salida estándar. Es una forma sencilla de mostrar cómo se realiza la salida de datos en Python y es el primer paso en muchos tutoriales de programación.\n",
        "\n",
        "### Salida esperada:\n",
        "```\n",
        "Hola, mundo\n",
        "```\n"
      ]
    },
    {
      "cell_type": "markdown",
      "id": "74abae37",
      "metadata": {
        "id": "74abae37"
      },
      "source": [
        "## 1.6. Glosario\n",
        "\n",
        "El glosario incluye términos importantes utilizados en la sección y proporciona una referencia rápida para el lector. Los términos incluyen 'programa', 'depuración', 'lenguajes formales', entre otros, explicando brevemente su significado y aplicación en el contexto de la programación.\n"
      ]
    },
    {
      "cell_type": "markdown",
      "id": "e30b8b2f",
      "metadata": {
        "id": "e30b8b2f"
      },
      "source": [
        "### Nota sobre el Glosario\n",
        "\n",
        "Este segmento no incluye código, ya que es puramente informativo y destinado a la clarificación de términos usados en la sección.\n"
      ]
    },
    {
      "cell_type": "markdown",
      "id": "73fa3407",
      "metadata": {
        "id": "73fa3407"
      },
      "source": [
        "## 2.1. Valores y tipos\n",
        "\n",
        "En Python, cada valor pertenece a un tipo determinado, como `int` para enteros, `float` para números decimales, y `str` para cadenas de texto. Es importante conocer el tipo de un valor porque dicta las operaciones que son posibles con él y su comportamiento en diferentes contextos.\n"
      ]
    },
    {
      "cell_type": "code",
      "execution_count": null,
      "id": "71682c16",
      "metadata": {
        "id": "71682c16"
      },
      "outputs": [],
      "source": [
        "# Ejemplo de código: Mostrando tipos de diferentes valores\n",
        "print(type(42))     # Debería mostrar <class 'int'>\n",
        "print(type(3.14))   # Debería mostrar <class 'float'>\n",
        "print(type('Hola')) # Debería mostrar <class 'str'>\n"
      ]
    },
    {
      "cell_type": "markdown",
      "id": "1362e0c2",
      "metadata": {
        "id": "1362e0c2"
      },
      "source": [
        "### Explicación del Código\n",
        "\n",
        "Este código utiliza la función `type()` para determinar y mostrar el tipo de diferentes valores. La función `type()` es útil para la depuración y durante el desarrollo, ayudando a entender qué tipo de datos se está manejando.\n",
        "\n",
        "### Salida esperada:\n",
        "```\n",
        "<class 'int'>\n",
        "<class 'float'>\n",
        "<class 'str'>\n",
        "```\n"
      ]
    },
    {
      "cell_type": "markdown",
      "id": "c3052d8f",
      "metadata": {
        "id": "c3052d8f"
      },
      "source": [
        "## 2.2. Variables\n",
        "\n",
        "Una variable en Python es un nombre que se refiere a un valor. Las variables se crean mediante asignación y el nombre de la variable puede ser casi cualquier cadena de letras y números, aunque no puede comenzar con un número.\n"
      ]
    },
    {
      "cell_type": "code",
      "execution_count": null,
      "id": "d0c2d811",
      "metadata": {
        "id": "d0c2d811"
      },
      "outputs": [],
      "source": [
        "# Ejemplo de código: Asignación de variables\n",
        "a = 10\n",
        "b = 20\n",
        "print(\"a + b =\", a + b)  # Suma de dos variables\n"
      ]
    },
    {
      "cell_type": "markdown",
      "id": "06fff97e",
      "metadata": {
        "id": "06fff97e"
      },
      "source": [
        "### Explicación del Código\n",
        "\n",
        "Este ejemplo muestra cómo asignar valores a variables y luego usar esas variables para realizar una operación, en este caso, una suma. La salida muestra el resultado de la operación.\n",
        "\n",
        "### Salida esperada:\n",
        "```\n",
        "a + b = 30\n",
        "```\n"
      ]
    },
    {
      "cell_type": "markdown",
      "id": "31900053",
      "metadata": {
        "id": "31900053"
      },
      "source": [
        "## 2.3. Nombres de variables y palabras reservadas\n",
        "\n",
        "Los nombres de las variables en Python pueden contener letras, números y guiones bajos, pero no pueden comenzar con un número ni ser una palabra reservada. Las palabras reservadas son palabras que tienen un significado especial en Python y no se pueden usar como nombres de variables.\n"
      ]
    },
    {
      "cell_type": "code",
      "execution_count": null,
      "id": "28f1e49f",
      "metadata": {
        "id": "28f1e49f"
      },
      "outputs": [],
      "source": [
        "# Ejemplo de código: Uso correcto e incorrecto de nombres de variables\n",
        "variable_correcta = 10\n",
        "# 1_variable_incorrecta = 20  # Descomentar causará un SyntaxError\n",
        "\n",
        "# Intento de usar una palabra reservada como nombre de variable\n",
        "# class = 'Algebra'  # Descomentar causará un SyntaxError\n"
      ]
    },
    {
      "cell_type": "markdown",
      "id": "e6689b8c",
      "metadata": {
        "id": "e6689b8c"
      },
      "source": [
        "### Explicación del Código\n",
        "\n",
        "Este ejemplo muestra cómo definir correctamente una variable y los errores comunes al usar nombres inválidos para las variables, como comenzar con un número o usar palabras reservadas.\n",
        "\n",
        "### Salida esperada:\n",
        "```\n",
        "SyntaxError (si se descomentan las líneas)\n",
        "```\n"
      ]
    },
    {
      "cell_type": "markdown",
      "id": "afeca18f",
      "metadata": {
        "id": "afeca18f"
      },
      "source": [
        "## 2.4. Sentencias\n",
        "\n",
        "Una sentencia es una unidad de código que el intérprete de Python puede ejecutar. En Python, por ejemplo, una sentencia puede ser una asignación o una llamada a una función.\n"
      ]
    },
    {
      "cell_type": "code",
      "execution_count": null,
      "id": "93f00c2a",
      "metadata": {
        "id": "93f00c2a"
      },
      "outputs": [],
      "source": [
        "# Ejemplo de código: Ejecutando sentencias\n",
        "print(\"Esta es una sentencia que imprime un texto.\")\n",
        "x = 2  # Esta es una sentencia de asignación\n",
        "print(x * 3)  # Esta es una sentencia que incluye una llamada a función y una operación\n"
      ]
    },
    {
      "cell_type": "markdown",
      "id": "e76d62ee",
      "metadata": {
        "id": "e76d62ee"
      },
      "source": [
        "### Explicación del Código\n",
        "\n",
        "Este código muestra varias sentencias en acción, incluyendo impresión en consola y operaciones matemáticas. Cada línea de código aquí constituye una sentencia en Python.\n",
        "\n",
        "### Salida esperada:\n",
        "```\n",
        "Esta es una sentencia que imprime un texto.\n",
        "6\n",
        "```\n"
      ]
    },
    {
      "cell_type": "markdown",
      "id": "e592cd9b",
      "metadata": {
        "id": "e592cd9b"
      },
      "source": [
        "## 2.5. Evaluar expresiones\n",
        "\n",
        "Una expresión es una combinación de valores, variables y operadores que se evalúa para producir un resultado. Cuando Python evalúa una expresión, produce un valor.\n"
      ]
    },
    {
      "cell_type": "code",
      "execution_count": null,
      "id": "8a00b043",
      "metadata": {
        "id": "8a00b043"
      },
      "outputs": [],
      "source": [
        "# Ejemplo de código: Evaluación de una expresión simple\n",
        "expresion = (5 + 10) * 2 / 5\n",
        "print(\"El resultado de evaluar la expresión es:\", expresion)\n"
      ]
    },
    {
      "cell_type": "markdown",
      "id": "abde5508",
      "metadata": {
        "id": "abde5508"
      },
      "source": [
        "### Explicación del Código\n",
        "\n",
        "Este ejemplo evalúa una expresión matemática sencilla y muestra el resultado. La expresión combina operaciones de suma, multiplicación y división.\n",
        "\n",
        "### Salida esperada:\n",
        "```\n",
        "El resultado de evaluar la expresión es: 6.0\n",
        "```\n"
      ]
    },
    {
      "cell_type": "markdown",
      "id": "09f779c8",
      "metadata": {
        "id": "09f779c8"
      },
      "source": [
        "## 2.6. Operadores y expresiones\n",
        "\n",
        "Python proporciona una variedad de operadores, como operadores aritméticos (`+`, `-`, `*`, `/`), de comparación (`==`, `!=`, `>`, `<`) y lógicos (`and`, `or`, `not`), que se pueden combinar con valores y variables para formar expresiones complejas.\n"
      ]
    },
    {
      "cell_type": "code",
      "execution_count": null,
      "id": "77a78ea6",
      "metadata": {
        "id": "77a78ea6"
      },
      "outputs": [],
      "source": [
        "# Ejemplo de código: Uso de varios operadores en expresiones\n",
        "a = 5\n",
        "b = 3\n",
        "print(\"a + b =\", a + b)\n",
        "print(\"a > b es\", a > b)\n",
        "print(\"not (a < b) es\", not (a < b))\n"
      ]
    },
    {
      "cell_type": "markdown",
      "id": "48bb52cf",
      "metadata": {
        "id": "48bb52cf"
      },
      "source": [
        "### Explicación del Código\n",
        "\n",
        "Este código demuestra el uso de operadores aritméticos y lógicos para formar expresiones que son evaluadas por Python. Se muestra cómo se pueden combinar estos operadores para realizar cálculos y comparaciones lógicas.\n",
        "\n",
        "### Salida esperada:\n",
        "```\n",
        "a + b = 8\n",
        "a > b es True\n",
        "not (a < b) es True\n",
        "```\n"
      ]
    },
    {
      "cell_type": "markdown",
      "id": "cd895443",
      "metadata": {
        "id": "cd895443"
      },
      "source": [
        "## 2.7. El orden de las operaciones\n",
        "\n",
        "El orden en que se evalúan las operaciones en Python sigue las reglas matemáticas estándar de precedencia, que pueden ser recordadas por el acrónimo PEMDAS: Paréntesis, Exponentes, Multiplicación/División, Adición/Sustracción.\n"
      ]
    },
    {
      "cell_type": "code",
      "execution_count": null,
      "id": "f042bafc",
      "metadata": {
        "id": "f042bafc"
      },
      "outputs": [],
      "source": [
        "# Ejemplo de código: Demostrando el orden de las operaciones\n",
        "resultado = 2 + 3 * 5 ** 2\n",
        "print(\"El resultado de 2 + 3 * 5 ** 2 es:\", resultado)\n"
      ]
    },
    {
      "cell_type": "markdown",
      "id": "a20cd2d9",
      "metadata": {
        "id": "a20cd2d9"
      },
      "source": [
        "### Explicación del Código\n",
        "\n",
        "Este ejemplo demuestra el orden de las operaciones, donde primero se evalúa el exponente, luego la multiplicación, y finalmente la adición. Esto muestra cómo Python sigue las reglas matemáticas de precedencia.\n",
        "\n",
        "### Salida esperada:\n",
        "```\n",
        "El resultado de 2 + 3 * 5 ** 2 es: 77\n",
        "```\n"
      ]
    },
    {
      "cell_type": "markdown",
      "id": "896c61ef",
      "metadata": {
        "id": "896c61ef"
      },
      "source": [
        "## 2.8. Las operaciones sobre cadenas\n",
        "\n",
        "En Python, las cadenas de texto pueden ser manipuladas utilizando una variedad de operaciones, como la concatenación (`+`), repetición (`*`), y acceso a subcadenas mediante índices y rebanadas.\n"
      ]
    },
    {
      "cell_type": "code",
      "execution_count": null,
      "id": "06a089b6",
      "metadata": {
        "id": "06a089b6"
      },
      "outputs": [],
      "source": [
        "# Ejemplo de código: Operaciones sobre cadenas\n",
        "saludo = \"Hola\" + \" \" + \"Mundo\"\n",
        "repetido = \"Hola \" * 3\n",
        "print(\"Concatenación:\", saludo)\n",
        "print(\"Repetición:\", repetido)\n"
      ]
    },
    {
      "cell_type": "markdown",
      "id": "85fd8f03",
      "metadata": {
        "id": "85fd8f03"
      },
      "source": [
        "### Explicación del Código\n",
        "\n",
        "Este ejemplo ilustra cómo se pueden concatenar cadenas usando `+` y cómo se pueden repetir con `*`. Estas son operaciones básicas sobre cadenas que permiten la manipulación y creación de nuevas cadenas a partir de existentes.\n",
        "\n",
        "### Salida esperada:\n",
        "```\n",
        "Concatenación: Hola Mundo\n",
        "Repetición: Hola Hola Hola\n",
        "```\n"
      ]
    }
  ],
  "metadata": {
    "colab": {
      "provenance": [],
      "include_colab_link": true
    },
    "language_info": {
      "name": "python"
    },
    "kernelspec": {
      "name": "python3",
      "display_name": "Python 3"
    }
  },
  "nbformat": 4,
  "nbformat_minor": 5
}